{
  "nbformat": 4,
  "nbformat_minor": 0,
  "metadata": {
    "colab": {
      "provenance": [],
      "collapsed_sections": [],
      "authorship_tag": "ABX9TyOWz9GmB0D4HSjBz/kR+nZN",
      "include_colab_link": true
    },
    "kernelspec": {
      "name": "python3",
      "display_name": "Python 3"
    },
    "language_info": {
      "name": "python"
    }
  },
  "cells": [
    {
      "cell_type": "markdown",
      "metadata": {
        "id": "view-in-github",
        "colab_type": "text"
      },
      "source": [
        "<a href=\"https://colab.research.google.com/github/joeywangyolo/class_pratice/blob/main/linebottest_1.ipynb\" target=\"_parent\"><img src=\"https://colab.research.google.com/assets/colab-badge.svg\" alt=\"Open In Colab\"/></a>"
      ]
    },
    {
      "cell_type": "code",
      "execution_count": 20,
      "metadata": {
        "id": "BYIN3JTD9e6K",
        "colab": {
          "base_uri": "https://localhost:8080/"
        },
        "outputId": "00a073ef-c7b3-4c88-c956-5c3e2f24a40d"
      },
      "outputs": [
        {
          "output_type": "stream",
          "name": "stdout",
          "text": [
            "Looking in indexes: https://pypi.org/simple, https://us-python.pkg.dev/colab-wheels/public/simple/\n",
            "Requirement already satisfied: line-bot-sdk in /usr/local/lib/python3.7/dist-packages (2.3.0)\n",
            "Requirement already satisfied: flask in /usr/local/lib/python3.7/dist-packages (1.1.4)\n",
            "Requirement already satisfied: flask-ngrok in /usr/local/lib/python3.7/dist-packages (0.0.25)\n",
            "Requirement already satisfied: requests>=2.0 in /usr/local/lib/python3.7/dist-packages (from line-bot-sdk) (2.23.0)\n",
            "Requirement already satisfied: aiohttp>=3.7.4 in /usr/local/lib/python3.7/dist-packages (from line-bot-sdk) (3.8.3)\n",
            "Requirement already satisfied: future in /usr/local/lib/python3.7/dist-packages (from line-bot-sdk) (0.16.0)\n",
            "Requirement already satisfied: frozenlist>=1.1.1 in /usr/local/lib/python3.7/dist-packages (from aiohttp>=3.7.4->line-bot-sdk) (1.3.1)\n",
            "Requirement already satisfied: asynctest==0.13.0 in /usr/local/lib/python3.7/dist-packages (from aiohttp>=3.7.4->line-bot-sdk) (0.13.0)\n",
            "Requirement already satisfied: aiosignal>=1.1.2 in /usr/local/lib/python3.7/dist-packages (from aiohttp>=3.7.4->line-bot-sdk) (1.2.0)\n",
            "Requirement already satisfied: typing-extensions>=3.7.4 in /usr/local/lib/python3.7/dist-packages (from aiohttp>=3.7.4->line-bot-sdk) (4.1.1)\n",
            "Requirement already satisfied: multidict<7.0,>=4.5 in /usr/local/lib/python3.7/dist-packages (from aiohttp>=3.7.4->line-bot-sdk) (6.0.2)\n",
            "Requirement already satisfied: attrs>=17.3.0 in /usr/local/lib/python3.7/dist-packages (from aiohttp>=3.7.4->line-bot-sdk) (22.1.0)\n",
            "Requirement already satisfied: charset-normalizer<3.0,>=2.0 in /usr/local/lib/python3.7/dist-packages (from aiohttp>=3.7.4->line-bot-sdk) (2.1.1)\n",
            "Requirement already satisfied: yarl<2.0,>=1.0 in /usr/local/lib/python3.7/dist-packages (from aiohttp>=3.7.4->line-bot-sdk) (1.8.1)\n",
            "Requirement already satisfied: async-timeout<5.0,>=4.0.0a3 in /usr/local/lib/python3.7/dist-packages (from aiohttp>=3.7.4->line-bot-sdk) (4.0.2)\n",
            "Requirement already satisfied: urllib3!=1.25.0,!=1.25.1,<1.26,>=1.21.1 in /usr/local/lib/python3.7/dist-packages (from requests>=2.0->line-bot-sdk) (1.24.3)\n",
            "Requirement already satisfied: idna<3,>=2.5 in /usr/local/lib/python3.7/dist-packages (from requests>=2.0->line-bot-sdk) (2.10)\n",
            "Requirement already satisfied: chardet<4,>=3.0.2 in /usr/local/lib/python3.7/dist-packages (from requests>=2.0->line-bot-sdk) (3.0.4)\n",
            "Requirement already satisfied: certifi>=2017.4.17 in /usr/local/lib/python3.7/dist-packages (from requests>=2.0->line-bot-sdk) (2022.9.24)\n",
            "Requirement already satisfied: click<8.0,>=5.1 in /usr/local/lib/python3.7/dist-packages (from flask) (7.1.2)\n",
            "Requirement already satisfied: Werkzeug<2.0,>=0.15 in /usr/local/lib/python3.7/dist-packages (from flask) (1.0.1)\n",
            "Requirement already satisfied: Jinja2<3.0,>=2.10.1 in /usr/local/lib/python3.7/dist-packages (from flask) (2.11.3)\n",
            "Requirement already satisfied: itsdangerous<2.0,>=0.24 in /usr/local/lib/python3.7/dist-packages (from flask) (1.1.0)\n",
            "Requirement already satisfied: MarkupSafe>=0.23 in /usr/local/lib/python3.7/dist-packages (from Jinja2<3.0,>=2.10.1->flask) (2.0.1)\n"
          ]
        }
      ],
      "source": [
        "!pip install line-bot-sdk flask flask-ngrok"
      ]
    },
    {
      "cell_type": "code",
      "source": [
        "from flask import Flask, request, abort, jsonify\n",
        "\n",
        "# 載入json處理套件\n",
        "import json\n",
        "\n",
        "# 外部連結自動生成套件\n",
        "from flask_ngrok import run_with_ngrok\n",
        "\n",
        "# 從linebot 套件包裡引用 LineBotApi 與 WebhookHandler 類別\n",
        "from linebot import (\n",
        "    LineBotApi, WebhookHandler\n",
        ")\n",
        "\n",
        "# 引用無效簽章錯誤\n",
        "from linebot.exceptions import (\n",
        "    InvalidSignatureError,\n",
        "    LineBotApiError\n",
        ")\n",
        "from linebot.models import *"
      ],
      "metadata": {
        "id": "SNs8ML2x9lRc"
      },
      "execution_count": 21,
      "outputs": []
    },
    {
      "cell_type": "code",
      "source": [
        "app = Flask(__name__,static_url_path='/material',static_folder='./material')\n",
        "run_with_ngrok(app)\n",
        "\n",
        "line_bot_api = LineBotApi('aaVojFnTBTE7+BYR9Y1+AzjrnOvkIgBAW8QxVeqWMqxI4mQKD7nifTQAaPnnY4BJkPRUz/zPdnV7+KK8tqRCYjLDepPHWug/DNk4dtdyKMe+dqi29x312vvMSim4uMnVR5IFpOaNT+ju2qzkCK1woAdB04t89/1O/w1cDnyilFU=')\n",
        "handler = WebhookHandler(\"9bdeaaf10e10fc84052ea6b2c268db7f\")"
      ],
      "metadata": {
        "id": "ya-dHAwS9lOl"
      },
      "execution_count": 22,
      "outputs": []
    },
    {
      "cell_type": "code",
      "source": [
        "from linebot.http_client import HttpResponse\n",
        "#LineBot 的主程序對話入口\n",
        "#啟動server對外接口，使Line能丟消息進來\n",
        "@app.route(\"/\" , methods=['POST'])\n",
        "def callback():\n",
        "    # get X-Line-Signature header value\n",
        "    signature = request.headers['X-Line-Signature']\n",
        "\n",
        "    # get request body as text\n",
        "    body = request.get_data(as_text = True)\n",
        "    app.logger.info(\"Request body: \" + body)\n",
        "    print(body)\n",
        "\n",
        "    # 記錄用戶log\n",
        "    #f = open(\"/content/drive/MyDrive/ai-event.log\", \"a\")\n",
        "    #f.write(body)\n",
        "    #f.close()\n",
        "\n",
        "    # handle webhook body\n",
        "    try:\n",
        "        events=handler.handle(body, signature)\n",
        "        #handler.handle(body, signature)\n",
        "    except InvalidSignatureError:\n",
        "        abort(400)\n",
        "\n",
        "    return 'OK'"
      ],
      "metadata": {
        "id": "NFAQBScH9lJH"
      },
      "execution_count": 23,
      "outputs": []
    },
    {
      "cell_type": "code",
      "source": [
        "from linebot.models import *\n",
        "from traitlets.traitlets import EventHandler\n",
        "# 用戶發出文字消息時， 按條件內容, 回傳文字消息\n",
        "@handler.add(MessageEvent, message=TextMessage)\n",
        "def handle_message(event):\n",
        "\n",
        "    #用戶傳來的文字消息\n",
        "    #若有 find 關鍵字 則執行下面的方法\n",
        "    msg = event.message.text\n",
        "    print(msg)\n",
        "    if '食譜'in msg :\n",
        "      print(\"1\")\n",
        "      fruits_massage = fruits_crawler()\n",
        "      print(\"2\")\n",
        "      print(fruits_massage)\n",
        "      line_bot_api.reply_message(\n",
        "          event.reply_token,\n",
        "          #FlexSendMessage('食譜',fruits_massage)\n",
        "          FlexSendMessage(fruits_massage)\n",
        "      )\n",
        "    #若無，回應查無此字\n",
        "    else:\n",
        "        line_bot_api.reply_message(\n",
        "        event.reply_token,\n",
        "        TextSendMessage(text=\" 字典內查無此字，請輸入'食譜' \")\n",
        "        )"
      ],
      "metadata": {
        "id": "eH3u2UZI9kx8"
      },
      "execution_count": 24,
      "outputs": []
    },
    {
      "cell_type": "code",
      "source": [
        "def fruits_crawler():\n",
        "  import requests\n",
        "  from bs4 import BeautifulSoup\n",
        "  import json\n",
        "  url = 'https://www.superbuy.com.tw/collection_fast.php?main_cate=610'\n",
        "  user_agent = 'Mozilla/5.0 (Macintosh; Intel Mac OS X 10_15_7) AppleWebKit/537.36 (KHTML, like Gecko) Chrome/105.0.0.0 Safari/537.36'\n",
        "  myHeaders={'User-Agent': user_agent}\n",
        "  r=requests.get(url, headers=myHeaders)\n",
        "  print('3')\n",
        "  print(r.status_code)\n",
        "  total =[]\n",
        "  result =[]\n",
        "  if r.status_code == 200:\n",
        "      soup = BeautifulSoup(r.text,'html.parser')\n",
        "      fruits = soup.find_all(\n",
        "      'div',{'class':'product col-xs-6 col-sm-6 col-md-4'},\n",
        "      limit = 5\n",
        "      )\n",
        "      #print(fruits)\n",
        "      print('4')\n",
        "      for fruits in fruits:\n",
        "          img = fruits.find_all('li')[0].find('img')['src']\n",
        "        # print(img)\n",
        "          name = fruits.find_all('li')[2].text.strip()\n",
        "        # print(name)\n",
        "          weight = fruits.find_all('li')[3].text.strip()\n",
        "          #print(weight)\n",
        "          price = fruits.find_all('li')[4].text.strip()\n",
        "          print('5')\n",
        "          links = fruits.find_all('li')[2].find('a')['href']\n",
        "          print('6')\n",
        "          links = \"https://www.superbuy.com.tw/\"+links\n",
        "          #print(links)\n",
        "          total.append({\"img\":img,\n",
        "                        \"name\":name,\n",
        "                        \"weight\":weight,\n",
        "                        \"price\":price,\n",
        "                        \"links\":links\n",
        "                            })\n",
        "          print('7')\n",
        "      with open('/content/foodie.json',encoding='utf-8') as f:\n",
        "          fruits = json.load(f)\n",
        "          print('8')\n",
        "          for i in range(3):\n",
        "              fruits['contents'][i]['hero']['url'] = total[i]['img']\n",
        "              fruits['contents'][i]['body']['contents'][0]['text']= total[i]['name']\n",
        "              fruits[\"contents\"][i][\"body\"][\"contents\"][2][\"contents\"][0][\"contents\"][0]['text']= total[i]['weight']\n",
        "              fruits[\"contents\"][i][\"footer\"]['contents'][0]['action']['uri']= total[i]['links']\n",
        "          fruits_massage = FlexSendMessage.new_from_json_dict(fruits)   \n",
        "      with open('/content/foodie.json','w',newline='',encoding='utf-8') as f:\n",
        "          json.dump(fruits,f,indent=4,ensure_ascii=False)\n",
        "      print('9')\n",
        "          #print(fruits['contents'][1]['hero']['url'])\n",
        "          #print(fruits['contents'][1]['body']['contents'][0]['text'])\n",
        "      return fruits_massage"
      ],
      "metadata": {
        "id": "d3bJBXIm9kpW"
      },
      "execution_count": 25,
      "outputs": []
    },
    {
      "cell_type": "code",
      "source": [
        "app.run()"
      ],
      "metadata": {
        "id": "kzyN9Ybx90k5"
      },
      "execution_count": null,
      "outputs": []
    }
  ]
}