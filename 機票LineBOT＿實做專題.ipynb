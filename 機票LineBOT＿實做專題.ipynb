{
  "nbformat": 4,
  "nbformat_minor": 0,
  "metadata": {
    "colab": {
      "provenance": [],
      "collapsed_sections": [],
      "authorship_tag": "ABX9TyMNflSCbkWI2m+V5075OPI/",
      "include_colab_link": true
    },
    "kernelspec": {
      "name": "python3",
      "display_name": "Python 3"
    },
    "language_info": {
      "name": "python"
    }
  },
  "cells": [
    {
      "cell_type": "markdown",
      "metadata": {
        "id": "view-in-github",
        "colab_type": "text"
      },
      "source": [
        "<a href=\"https://colab.research.google.com/github/joeywangyolo/my_first_LineBot/blob/main/%E6%A9%9F%E7%A5%A8LineBOT%EF%BC%BF%E5%AF%A6%E5%81%9A%E5%B0%88%E9%A1%8C.ipynb\" target=\"_parent\"><img src=\"https://colab.research.google.com/assets/colab-badge.svg\" alt=\"Open In Colab\"/></a>"
      ]
    },
    {
      "cell_type": "code",
      "execution_count": null,
      "metadata": {
        "colab": {
          "base_uri": "https://localhost:8080/"
        },
        "id": "Mg9shftN8ckv",
        "outputId": "fe173854-6da6-49c6-b0da-0252dc903c55"
      },
      "outputs": [
        {
          "output_type": "stream",
          "name": "stdout",
          "text": [
            "Looking in indexes: https://pypi.org/simple, https://us-python.pkg.dev/colab-wheels/public/simple/\n",
            "Requirement already satisfied: line-bot-sdk in /usr/local/lib/python3.7/dist-packages (2.3.0)\n",
            "Requirement already satisfied: flask in /usr/local/lib/python3.7/dist-packages (1.1.4)\n",
            "Requirement already satisfied: flask-ngrok in /usr/local/lib/python3.7/dist-packages (0.0.25)\n",
            "Requirement already satisfied: requests>=2.0 in /usr/local/lib/python3.7/dist-packages (from line-bot-sdk) (2.23.0)\n",
            "Requirement already satisfied: aiohttp>=3.7.4 in /usr/local/lib/python3.7/dist-packages (from line-bot-sdk) (3.8.3)\n",
            "Requirement already satisfied: future in /usr/local/lib/python3.7/dist-packages (from line-bot-sdk) (0.16.0)\n",
            "Requirement already satisfied: async-timeout<5.0,>=4.0.0a3 in /usr/local/lib/python3.7/dist-packages (from aiohttp>=3.7.4->line-bot-sdk) (4.0.2)\n",
            "Requirement already satisfied: typing-extensions>=3.7.4 in /usr/local/lib/python3.7/dist-packages (from aiohttp>=3.7.4->line-bot-sdk) (4.1.1)\n",
            "Requirement already satisfied: attrs>=17.3.0 in /usr/local/lib/python3.7/dist-packages (from aiohttp>=3.7.4->line-bot-sdk) (22.1.0)\n",
            "Requirement already satisfied: multidict<7.0,>=4.5 in /usr/local/lib/python3.7/dist-packages (from aiohttp>=3.7.4->line-bot-sdk) (6.0.2)\n",
            "Requirement already satisfied: asynctest==0.13.0 in /usr/local/lib/python3.7/dist-packages (from aiohttp>=3.7.4->line-bot-sdk) (0.13.0)\n",
            "Requirement already satisfied: charset-normalizer<3.0,>=2.0 in /usr/local/lib/python3.7/dist-packages (from aiohttp>=3.7.4->line-bot-sdk) (2.1.1)\n",
            "Requirement already satisfied: aiosignal>=1.1.2 in /usr/local/lib/python3.7/dist-packages (from aiohttp>=3.7.4->line-bot-sdk) (1.2.0)\n",
            "Requirement already satisfied: frozenlist>=1.1.1 in /usr/local/lib/python3.7/dist-packages (from aiohttp>=3.7.4->line-bot-sdk) (1.3.1)\n",
            "Requirement already satisfied: yarl<2.0,>=1.0 in /usr/local/lib/python3.7/dist-packages (from aiohttp>=3.7.4->line-bot-sdk) (1.8.1)\n",
            "Requirement already satisfied: idna<3,>=2.5 in /usr/local/lib/python3.7/dist-packages (from requests>=2.0->line-bot-sdk) (2.10)\n",
            "Requirement already satisfied: urllib3!=1.25.0,!=1.25.1,<1.26,>=1.21.1 in /usr/local/lib/python3.7/dist-packages (from requests>=2.0->line-bot-sdk) (1.24.3)\n",
            "Requirement already satisfied: chardet<4,>=3.0.2 in /usr/local/lib/python3.7/dist-packages (from requests>=2.0->line-bot-sdk) (3.0.4)\n",
            "Requirement already satisfied: certifi>=2017.4.17 in /usr/local/lib/python3.7/dist-packages (from requests>=2.0->line-bot-sdk) (2022.9.24)\n",
            "Requirement already satisfied: Werkzeug<2.0,>=0.15 in /usr/local/lib/python3.7/dist-packages (from flask) (1.0.1)\n",
            "Requirement already satisfied: itsdangerous<2.0,>=0.24 in /usr/local/lib/python3.7/dist-packages (from flask) (1.1.0)\n",
            "Requirement already satisfied: Jinja2<3.0,>=2.10.1 in /usr/local/lib/python3.7/dist-packages (from flask) (2.11.3)\n",
            "Requirement already satisfied: click<8.0,>=5.1 in /usr/local/lib/python3.7/dist-packages (from flask) (7.1.2)\n",
            "Requirement already satisfied: MarkupSafe>=0.23 in /usr/local/lib/python3.7/dist-packages (from Jinja2<3.0,>=2.10.1->flask) (2.0.1)\n"
          ]
        }
      ],
      "source": [
        "!pip install line-bot-sdk flask flask-ngrok"
      ]
    },
    {
      "cell_type": "code",
      "source": [
        "from flask import Flask, request, abort, jsonify\n",
        "\n",
        "# 載入json處理套件\n",
        "import json\n",
        "\n",
        "# 外部連結自動生成套件\n",
        "from flask_ngrok import run_with_ngrok\n",
        "\n",
        "# 從linebot 套件包裡引用 LineBotApi 與 WebhookHandler 類別\n",
        "from linebot import (\n",
        "    LineBotApi, WebhookHandler\n",
        ")\n",
        "\n",
        "# 引用無效簽章錯誤\n",
        "from linebot.exceptions import (\n",
        "    InvalidSignatureError,\n",
        "    LineBotApiError\n",
        ")\n",
        "from linebot.models import *"
      ],
      "metadata": {
        "id": "I_PDMogj8n3T"
      },
      "execution_count": null,
      "outputs": []
    },
    {
      "cell_type": "code",
      "source": [
        "app = Flask(__name__,static_url_path='/material',static_folder='./material')\n",
        "run_with_ngrok(app)\n",
        "\n",
        "line_bot_api = LineBotApi('aaVojFnTBTE7+BYR9Y1+AzjrnOvkIgBAW8QxVeqWMqxI4mQKD7nifTQAaPnnY4BJkPRUz/zPdnV7+KK8tqRCYjLDepPHWug/DNk4dtdyKMe+dqi29x312vvMSim4uMnVR5IFpOaNT+ju2qzkCK1woAdB04t89/1O/w1cDnyilFU=')\n",
        "handler = WebhookHandler(\"9bdeaaf10e10fc84052ea6b2c268db7f\")"
      ],
      "metadata": {
        "id": "i-n89_468rvL"
      },
      "execution_count": null,
      "outputs": []
    },
    {
      "cell_type": "code",
      "source": [
        "from linebot.http_client import HttpResponse\n",
        "#LineBot 的主程序對話入口\n",
        "#啟動server對外接口，使Line能丟消息進來\n",
        "@app.route(\"/\" , methods=['POST'])\n",
        "def callback():\n",
        "    # get X-Line-Signature header value\n",
        "    signature = request.headers['X-Line-Signature']\n",
        "\n",
        "    # get request body as text\n",
        "    body = request.get_data(as_text = True)\n",
        "    print(body)\n",
        "\n",
        "\n",
        "    try:\n",
        "        events=handler.handle(body, signature)\n",
        "        #handler.handle(body, signature)\n",
        "    except InvalidSignatureError:\n",
        "        abort(400)\n",
        "\n",
        "    return 'OK'"
      ],
      "metadata": {
        "id": "Cz47f5208uiE"
      },
      "execution_count": null,
      "outputs": []
    },
    {
      "cell_type": "code",
      "source": [
        "flex_message1 = FlexSendMessage(\n",
        "    alt_text='hello',\n",
        "    contents=BubbleContainer(\n",
        "        direction='ltr',\n",
        "        hero=ImageComponent(\n",
        "            url='https://www.e-japannavi.com/syuyu/images/map_cts_hokkaido_img_hakodate.jpg',\n",
        "            size='full',\n",
        "            aspect_ratio='20:13',\n",
        "            aspect_mode='cover',\n",
        "            action=URIAction(uri='http://example.com', label='label')\n",
        "        )\n",
        "    )\n",
        ")"
      ],
      "metadata": {
        "id": "LogtwKzMe7d5"
      },
      "execution_count": null,
      "outputs": []
    },
    {
      "cell_type": "code",
      "source": [
        "import json\n",
        "from linebot.models import (\n",
        "    TextSendMessage,ImageSendMessage,FlexSendMessage,PostbackEvent\n",
        ")\n",
        "with open('/content/1階段_1.json',encoding='utf8') as f:\n",
        "  flight_message = json.load(f)\n",
        "  FlexSendMessage.new_from_json_dict(flight_message)\n",
        "print(flight_message)\n",
        "  "
      ],
      "metadata": {
        "colab": {
          "base_uri": "https://localhost:8080/"
        },
        "id": "8wlB1LWoarYb",
        "outputId": "08ca2d06-8cd0-4101-c127-9d0b88c0beb9"
      },
      "execution_count": null,
      "outputs": [
        {
          "output_type": "stream",
          "name": "stdout",
          "text": [
            "{'type': 'flex', 'altText': 'this is a Flex Message', 'contents': {'type': 'carousel', 'contents': [{'type': 'bubble', 'size': 'micro', 'hero': {'type': 'image', 'url': 'https://www.e-japannavi.com/syuyu/images/map_cts_hokkaido_img_hakodate.jpg', 'size': 'full', 'aspectMode': 'cover', 'aspectRatio': '320:213'}, 'body': {'type': 'box', 'layout': 'vertical', 'contents': [{'type': 'text', 'text': '函館', 'weight': 'bold', 'size': 'md', 'wrap': True}, {'type': 'box', 'layout': 'baseline', 'contents': [{'type': 'icon', 'size': 'xs', 'url': 'https://scdn.line-apps.com/n/channel_devcenter/img/fx/review_gold_star_28.png'}, {'type': 'icon', 'size': 'xs', 'url': 'https://scdn.line-apps.com/n/channel_devcenter/img/fx/review_gold_star_28.png'}, {'type': 'icon', 'size': 'xs', 'url': 'https://scdn.line-apps.com/n/channel_devcenter/img/fx/review_gold_star_28.png'}, {'type': 'icon', 'size': 'xs', 'url': 'https://scdn.line-apps.com/n/channel_devcenter/img/fx/review_gold_star_28.png'}, {'type': 'icon', 'size': 'xs', 'url': 'https://scdn.line-apps.com/n/channel_devcenter/img/fx/review_gray_star_28.png'}, {'type': 'text', 'text': '4.0', 'size': 'xs', 'color': '#8c8c8c', 'margin': 'md', 'flex': 0}]}, {'type': 'box', 'layout': 'vertical', 'contents': [{'type': 'box', 'layout': 'baseline', 'spacing': 'sm', 'contents': [{'type': 'text', 'text': 'NT$ 3,838 起', 'wrap': True, 'color': '#8c8c8c', 'size': 'xs', 'flex': 5}]}]}], 'spacing': 'sm', 'paddingAll': '13px'}, 'footer': {'type': 'box', 'layout': 'vertical', 'contents': [{'type': 'button', 'action': {'type': 'postback', 'label': 'CHECK', 'data': 'HKD', 'displayText': 'HKD'}}]}}, {'type': 'bubble', 'size': 'micro', 'hero': {'type': 'image', 'url': 'https://www.e-japannavi.com/syuyu/images/map_idx_img_kanto01.jpg', 'size': 'full', 'aspectMode': 'cover', 'aspectRatio': '320:213'}, 'body': {'type': 'box', 'layout': 'vertical', 'contents': [{'type': 'text', 'text': '東京', 'weight': 'bold', 'size': 'md', 'wrap': True}, {'type': 'box', 'layout': 'baseline', 'contents': [{'type': 'icon', 'size': 'xs', 'url': 'https://scdn.line-apps.com/n/channel_devcenter/img/fx/review_gold_star_28.png'}, {'type': 'icon', 'size': 'xs', 'url': 'https://scdn.line-apps.com/n/channel_devcenter/img/fx/review_gold_star_28.png'}, {'type': 'icon', 'size': 'xs', 'url': 'https://scdn.line-apps.com/n/channel_devcenter/img/fx/review_gold_star_28.png'}, {'type': 'icon', 'size': 'xs', 'url': 'https://scdn.line-apps.com/n/channel_devcenter/img/fx/review_gold_star_28.png'}, {'type': 'icon', 'size': 'xs', 'url': 'https://scdn.line-apps.com/n/channel_devcenter/img/fx/review_gray_star_28.png'}, {'type': 'text', 'text': '4.0', 'size': 'sm', 'color': '#8c8c8c', 'margin': 'md', 'flex': 0}]}, {'type': 'box', 'layout': 'vertical', 'contents': [{'type': 'box', 'layout': 'baseline', 'spacing': 'sm', 'contents': [{'type': 'text', 'text': 'NT$ 6,458 起', 'wrap': True, 'color': '#8c8c8c', 'size': 'xs', 'flex': 5}]}]}], 'spacing': 'sm', 'paddingAll': '13px'}, 'footer': {'type': 'box', 'layout': 'vertical', 'contents': [{'type': 'button', 'action': {'type': 'postback', 'label': 'CHECK', 'data': 'TYOA', 'displayText': 'TYOA'}}]}}, {'type': 'bubble', 'size': 'micro', 'hero': {'type': 'image', 'url': 'https://www.e-japannavi.com/syuyu/images/map_cts_kinki_img_osaka.jpg', 'size': 'full', 'aspectMode': 'cover', 'aspectRatio': '320:213'}, 'body': {'type': 'box', 'layout': 'vertical', 'contents': [{'type': 'text', 'text': '大阪', 'weight': 'bold', 'size': 'md'}, {'type': 'box', 'layout': 'baseline', 'contents': [{'type': 'icon', 'size': 'xs', 'url': 'https://scdn.line-apps.com/n/channel_devcenter/img/fx/review_gold_star_28.png'}, {'type': 'icon', 'size': 'xs', 'url': 'https://scdn.line-apps.com/n/channel_devcenter/img/fx/review_gold_star_28.png'}, {'type': 'icon', 'size': 'xs', 'url': 'https://scdn.line-apps.com/n/channel_devcenter/img/fx/review_gold_star_28.png'}, {'type': 'icon', 'size': 'xs', 'url': 'https://scdn.line-apps.com/n/channel_devcenter/img/fx/review_gold_star_28.png'}, {'type': 'icon', 'size': 'xs', 'url': 'https://scdn.line-apps.com/n/channel_devcenter/img/fx/review_gray_star_28.png'}, {'type': 'text', 'text': '4.0', 'size': 'sm', 'color': '#8c8c8c', 'margin': 'md', 'flex': 0}]}, {'type': 'box', 'layout': 'vertical', 'contents': [{'type': 'box', 'layout': 'baseline', 'spacing': 'sm', 'contents': [{'type': 'text', 'text': 'NT$ 6,600 起', 'wrap': True, 'color': '#8c8c8c', 'size': 'xs', 'flex': 5}]}]}], 'spacing': 'sm', 'paddingAll': '13px'}, 'footer': {'type': 'box', 'layout': 'vertical', 'contents': [{'type': 'button', 'action': {'type': 'postback', 'label': 'CHECK', 'data': 'OSAA', 'displayText': 'OSAA'}}]}}, {'type': 'bubble', 'size': 'micro', 'hero': {'type': 'image', 'url': 'https://www.e-japannavi.com/syuyu/images/map_cts_kyusyu_img_kagoshima.jpg', 'size': 'full', 'aspectMode': 'cover', 'aspectRatio': '320:213'}, 'body': {'type': 'box', 'layout': 'vertical', 'contents': [{'type': 'text', 'text': '鹿兒島', 'weight': 'bold', 'size': 'md', 'wrap': True}, {'type': 'box', 'layout': 'baseline', 'contents': [{'type': 'icon', 'size': 'xs', 'url': 'https://scdn.line-apps.com/n/channel_devcenter/img/fx/review_gold_star_28.png'}, {'type': 'icon', 'size': 'xs', 'url': 'https://scdn.line-apps.com/n/channel_devcenter/img/fx/review_gold_star_28.png'}, {'type': 'icon', 'size': 'xs', 'url': 'https://scdn.line-apps.com/n/channel_devcenter/img/fx/review_gold_star_28.png'}, {'type': 'icon', 'size': 'xs', 'url': 'https://scdn.line-apps.com/n/channel_devcenter/img/fx/review_gold_star_28.png'}, {'type': 'icon', 'size': 'xs', 'url': 'https://scdn.line-apps.com/n/channel_devcenter/img/fx/review_gray_star_28.png'}, {'type': 'text', 'text': '4.0', 'size': 'xs', 'color': '#8c8c8c', 'margin': 'md', 'flex': 0}]}, {'type': 'box', 'layout': 'vertical', 'contents': [{'type': 'box', 'layout': 'baseline', 'spacing': 'sm', 'contents': [{'type': 'text', 'text': 'NT$4,485 起', 'wrap': True, 'color': '#8c8c8c', 'size': 'xs', 'flex': 5}]}]}], 'spacing': 'sm', 'paddingAll': '13px'}, 'footer': {'type': 'box', 'layout': 'vertical', 'contents': [{'type': 'button', 'action': {'type': 'postback', 'label': 'CHECK', 'data': 'KOJ', 'displayText': 'KOJ'}}]}}, {'type': 'bubble', 'size': 'micro', 'hero': {'type': 'image', 'url': 'https://www.e-japannavi.com/syuyu/images/map_cts_okinawa_img_naha.jpg', 'size': 'full', 'aspectMode': 'cover', 'aspectRatio': '320:213'}, 'body': {'type': 'box', 'layout': 'vertical', 'contents': [{'type': 'text', 'text': '沖繩', 'weight': 'bold', 'size': 'md', 'wrap': True}, {'type': 'box', 'layout': 'baseline', 'contents': [{'type': 'icon', 'size': 'xs', 'url': 'https://scdn.line-apps.com/n/channel_devcenter/img/fx/review_gold_star_28.png'}, {'type': 'icon', 'size': 'xs', 'url': 'https://scdn.line-apps.com/n/channel_devcenter/img/fx/review_gold_star_28.png'}, {'type': 'icon', 'size': 'xs', 'url': 'https://scdn.line-apps.com/n/channel_devcenter/img/fx/review_gold_star_28.png'}, {'type': 'icon', 'size': 'xs', 'url': 'https://scdn.line-apps.com/n/channel_devcenter/img/fx/review_gold_star_28.png'}, {'type': 'icon', 'size': 'xs', 'url': 'https://scdn.line-apps.com/n/channel_devcenter/img/fx/review_gray_star_28.png'}, {'type': 'text', 'text': '4.0', 'size': 'xs', 'color': '#8c8c8c', 'margin': 'md', 'flex': 0}]}, {'type': 'box', 'layout': 'vertical', 'contents': [{'type': 'box', 'layout': 'baseline', 'spacing': 'sm', 'contents': [{'type': 'text', 'text': 'NT$7,648 起', 'wrap': True, 'color': '#8c8c8c', 'size': 'xs', 'flex': 5}]}]}], 'spacing': 'sm', 'paddingAll': '13px'}, 'footer': {'type': 'box', 'layout': 'vertical', 'contents': [{'type': 'button', 'action': {'type': 'postback', 'label': 'CHECK', 'data': 'KOA', 'displayText': 'KOA'}}]}}]}}\n"
          ]
        }
      ]
    },
    {
      "cell_type": "code",
      "source": [
        "import re\n",
        "@handler.add(MessageEvent,message = TextMessage)\n",
        "#當用戶傳送文字消息時的處理\n",
        "def handle_message(event):\n",
        "\n",
        "  with open('/content/1階段_1.json',encoding='utf8') as f: \n",
        "    flight_message = json.load(f)\n",
        "\n",
        "  if event.message.text.find('@')!=-1 :\n",
        "    line_bot_api.reply_message(\n",
        "        event.reply_token,\n",
        "        #template_message_dict.get(event.message.text),\n",
        "        FlexSendMessage.new_from_json_dict(flight_message)\n",
        "    )\n",
        "    #data 為用戶輸入的日期變數，之後用 date 來做爬蟲的時間參數 \n",
        "  elif re.match('[2022.2023.2024.2025]+-\\d{1,2}-\\d{1,2}',event.message.text):\n",
        "    date =event.message.text\n",
        "    line_bot_api.reply_message(\n",
        "        event.reply_token,\n",
        "        TextSendMessage(text='您要選擇的日期為：'+date),\n",
        "        #TextSendMessage(text='請輸入 @日本機票 來查看日本的重點城市')\n",
        "    )\n",
        "  else:\n",
        "    line_bot_api.reply_message(\n",
        "        event.reply_token,\n",
        "        TextSendMessage(text='字典內查無此字，請輸入@日本機票')\n",
        "    )"
      ],
      "metadata": {
        "id": "_OFKG3h_9AuY"
      },
      "execution_count": null,
      "outputs": []
    },
    {
      "cell_type": "code",
      "source": [
        "from linebot.models import PostbackEvent\n",
        "\n",
        "@handler.add(PostbackEvent)\n",
        "def handle_post_message(event):\n",
        "    print(event.postback.data)\n",
        "    #postback data 找到 HKD(用戶點了HKD之後)\n",
        "    if (event.postback.data.find('HKD')== 0):\n",
        "      #這邊呼叫爬蟲def (date , 涵館)\n",
        "            line_bot_api.reply_message(\n",
        "            event.reply_token,\n",
        "                TextSendMessage(\n",
        "                    text='請稍待，將為您找尋前往 涵館 的相關資訊',\n",
        "                    #FlexSendMessage(第二階段的範本訊息)\n",
        "                )\n",
        "            )\n",
        "    elif (event.postback.data.find('TYOA') == 0):\n",
        "            line_bot_api.reply_message(\n",
        "            event.reply_token,\n",
        "                TextSendMessage(\n",
        "                    text='請稍待，將為您找尋前往 東京 的相關資訊',\n",
        "                )\n",
        "            )\n",
        "    elif (event.postback.data.find('OSAA') == 0):\n",
        "            line_bot_api.reply_message(\n",
        "            event.reply_token,\n",
        "                TextSendMessage(\n",
        "                    text='請稍待，將為您找尋前往 大阪 的相關資訊'\n",
        "                )\n",
        "            )\n",
        "    elif (event.postback.data.find('KOJ') == 0):\n",
        "            line_bot_api.reply_message(\n",
        "            event.reply_token,\n",
        "                TextSendMessage(\n",
        "                    text='請稍待，將為您找尋前往 鹿兒島 的相關資訊'\n",
        "                )\n",
        "            )\n",
        "    elif (event.postback.data.find('OKA') == 0):\n",
        "            line_bot_api.reply_message(\n",
        "            event.reply_token,\n",
        "                TextSendMessage(\n",
        "                    text='請稍待，將為您找尋前往 沖繩 的相關資訊'\n",
        "                )\n",
        "            )                    \n",
        "    else:\n",
        "        pass"
      ],
      "metadata": {
        "id": "LhxSUZDF9Dh6"
      },
      "execution_count": null,
      "outputs": []
    },
    {
      "cell_type": "code",
      "source": [
        "app.run()"
      ],
      "metadata": {
        "colab": {
          "base_uri": "https://localhost:8080/"
        },
        "id": "f_HhPfAk9HQY",
        "outputId": "ef8bdb80-5063-4e9c-c8a8-decb16973b0f"
      },
      "execution_count": null,
      "outputs": [
        {
          "metadata": {
            "tags": null
          },
          "name": "stdout",
          "output_type": "stream",
          "text": [
            " * Serving Flask app \"__main__\" (lazy loading)\n",
            " * Environment: production\n",
            "\u001b[31m   WARNING: This is a development server. Do not use it in a production deployment.\u001b[0m\n",
            "\u001b[2m   Use a production WSGI server instead.\u001b[0m\n",
            " * Debug mode: off\n"
          ]
        },
        {
          "metadata": {
            "tags": null
          },
          "name": "stderr",
          "output_type": "stream",
          "text": [
            "INFO:werkzeug: * Running on http://127.0.0.1:5000/ (Press CTRL+C to quit)\n"
          ]
        },
        {
          "metadata": {
            "tags": null
          },
          "name": "stdout",
          "output_type": "stream",
          "text": [
            " * Running on http://7498-34-125-128-18.ngrok.io\n",
            " * Traffic stats available on http://127.0.0.1:4040\n"
          ]
        },
        {
          "metadata": {
            "tags": null
          },
          "name": "stderr",
          "output_type": "stream",
          "text": [
            "INFO:werkzeug:127.0.0.1 - - [09/Nov/2022 18:10:48] \"\u001b[37mPOST / HTTP/1.1\u001b[0m\" 200 -\n"
          ]
        },
        {
          "metadata": {
            "tags": null
          },
          "name": "stdout",
          "output_type": "stream",
          "text": [
            "{\"destination\":\"U19b02b13f50255cfa6519ebbe7aa17c5\",\"events\":[]}\n",
            "{\"destination\":\"U19b02b13f50255cfa6519ebbe7aa17c5\",\"events\":[{\"type\":\"message\",\"message\":{\"type\":\"text\",\"id\":\"17097957816806\",\"text\":\"2023-12-25\"},\"webhookEventId\":\"01GHESDYKHAZTSPFQRQBMEQVNQ\",\"deliveryContext\":{\"isRedelivery\":false},\"timestamp\":1668017486230,\"source\":{\"type\":\"user\",\"userId\":\"Uf68c93d717d6159be62f0d55cb62acac\"},\"replyToken\":\"49da34ca50ae4bcc855db1a67418cc10\",\"mode\":\"active\"}]}\n"
          ]
        },
        {
          "metadata": {
            "tags": null
          },
          "name": "stderr",
          "output_type": "stream",
          "text": [
            "INFO:werkzeug:127.0.0.1 - - [09/Nov/2022 18:11:27] \"\u001b[37mPOST / HTTP/1.1\u001b[0m\" 200 -\n"
          ]
        },
        {
          "metadata": {
            "tags": null
          },
          "name": "stdout",
          "output_type": "stream",
          "text": [
            "{\"destination\":\"U19b02b13f50255cfa6519ebbe7aa17c5\",\"events\":[{\"type\":\"message\",\"message\":{\"type\":\"text\",\"id\":\"17097958654712\",\"text\":\"@日本機票\"},\"webhookEventId\":\"01GHESEK44PSR2WB9NCPZYH65H\",\"deliveryContext\":{\"isRedelivery\":false},\"timestamp\":1668017506956,\"source\":{\"type\":\"user\",\"userId\":\"Uf68c93d717d6159be62f0d55cb62acac\"},\"replyToken\":\"610efb9d0b2946d6882fc4bbd7e8cc0b\",\"mode\":\"active\"}]}\n"
          ]
        },
        {
          "metadata": {
            "tags": null
          },
          "name": "stderr",
          "output_type": "stream",
          "text": [
            "INFO:werkzeug:127.0.0.1 - - [09/Nov/2022 18:11:49] \"\u001b[37mPOST / HTTP/1.1\u001b[0m\" 200 -\n",
            "INFO:werkzeug:127.0.0.1 - - [09/Nov/2022 18:11:55] \"\u001b[37mPOST / HTTP/1.1\u001b[0m\" 200 -\n"
          ]
        },
        {
          "metadata": {
            "tags": null
          },
          "name": "stdout",
          "output_type": "stream",
          "text": [
            "{\"destination\":\"U19b02b13f50255cfa6519ebbe7aa17c5\",\"events\":[{\"type\":\"postback\",\"postback\":{\"data\":\"OSAA\"},\"webhookEventId\":\"01GHESETAYMKBDWMBYFB9QK6WT\",\"deliveryContext\":{\"isRedelivery\":false},\"timestamp\":1668017514344,\"source\":{\"type\":\"user\",\"userId\":\"Uf68c93d717d6159be62f0d55cb62acac\"},\"replyToken\":\"ca68eab0f3564ee8b139afbb1cb41653\",\"mode\":\"active\"}]}\n",
            "OSAA\n",
            "{\"destination\":\"U19b02b13f50255cfa6519ebbe7aa17c5\",\"events\":[{\"type\":\"postback\",\"postback\":{\"data\":\"OSAA\"},\"webhookEventId\":\"01GHESEX66AE7QH6Z76G8S59BW\",\"deliveryContext\":{\"isRedelivery\":false},\"timestamp\":1668017517678,\"source\":{\"type\":\"user\",\"userId\":\"Uf68c93d717d6159be62f0d55cb62acac\"},\"replyToken\":\"b42c382b67c547a880a2c09060766916\",\"mode\":\"active\"}]}\n",
            "OSAA\n"
          ]
        },
        {
          "metadata": {
            "tags": null
          },
          "name": "stderr",
          "output_type": "stream",
          "text": [
            "INFO:werkzeug:127.0.0.1 - - [09/Nov/2022 18:11:58] \"\u001b[37mPOST / HTTP/1.1\u001b[0m\" 200 -\n"
          ]
        }
      ]
    }
  ]
}